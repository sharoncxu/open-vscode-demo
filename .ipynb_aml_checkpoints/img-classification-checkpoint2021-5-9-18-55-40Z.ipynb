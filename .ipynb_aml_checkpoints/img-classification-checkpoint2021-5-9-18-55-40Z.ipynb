{
  "cells": [
    {
      "cell_type": "markdown",
      "source": [
        "# Image Classification\r\n",
        "\r\n",
        "In this notebook, we will be building a decision tree and a multi-class logistic regression model to determine the number written in a handwritten image from the MNIST Dataset."
      ],
      "metadata": {
        "nteract": {
          "transient": {
            "deleting": false
          }
        }
      }
    },
    {
      "cell_type": "markdown",
      "source": [
        "![decision-tree-slide] (./slides/decision-tree.jpg)"
      ],
      "metadata": {
        "nteract": {
          "transient": {
            "deleting": false
          }
        }
      }
    },
    {
      "cell_type": "markdown",
      "source": [
        "![logistic-regression-slide](./slides/logistic-regression.jpg)"
      ],
      "metadata": {
        "nteract": {
          "transient": {
            "deleting": false
          }
        }
      }
    },
    {
      "cell_type": "markdown",
      "source": [
        "## Code Setup"
      ],
      "metadata": {
        "nteract": {
          "transient": {
            "deleting": false
          }
        }
      }
    },
    {
      "cell_type": "code",
      "source": [
        "import os\r\n",
        "import numpy as np\r\n",
        "import matplotlib.pyplot as plt\r\n",
        "import glob\r\n",
        "\r\n",
        "from sklearn.linear_model import LogisticRegression\r\n",
        "from sklearn import tree\r\n",
        "import joblib\r\n",
        "from azureml.core import Run\r\n"
      ],
      "outputs": [],
      "execution_count": 1,
      "metadata": {
        "gather": {
          "logged": 1623126399015
        }
      }
    },
    {
      "cell_type": "code",
      "source": [
        "import gzip\r\n",
        "import struct\r\n",
        "\r\n",
        "\r\n",
        "# load compressed MNIST gz files and return numpy arrays\r\n",
        "def load_data(filename, label=False):\r\n",
        "    with gzip.open(filename) as gz:\r\n",
        "        struct.unpack('I', gz.read(4))\r\n",
        "        n_items = struct.unpack('>I', gz.read(4))\r\n",
        "        if not label:\r\n",
        "            n_rows = struct.unpack('>I', gz.read(4))[0]\r\n",
        "            n_cols = struct.unpack('>I', gz.read(4))[0]\r\n",
        "            res = np.frombuffer(gz.read(n_items[0] * n_rows * n_cols), dtype=np.uint8)\r\n",
        "            res = res.reshape(n_items[0], n_rows * n_cols)\r\n",
        "        else:\r\n",
        "            res = np.frombuffer(gz.read(n_items[0]), dtype=np.uint8)\r\n",
        "            res = res.reshape(n_items[0], 1)\r\n",
        "    return res\r\n",
        "\r\n",
        "\r\n",
        "# one-hot encode a 1-D array\r\n",
        "def one_hot_encode(array, num_of_classes):\r\n",
        "    return np.eye(num_of_classes)[array.reshape(-1)]"
      ],
      "outputs": [],
      "execution_count": 2,
      "metadata": {
        "collapsed": true,
        "jupyter": {
          "source_hidden": true,
          "outputs_hidden": false
        },
        "nteract": {
          "transient": {
            "deleting": false
          }
        },
        "gather": {
          "logged": 1623126400090
        }
      }
    },
    {
      "cell_type": "markdown",
      "source": [
        "## Explore data"
      ],
      "metadata": {
        "nteract": {
          "transient": {
            "deleting": false
          }
        }
      }
    },
    {
      "cell_type": "markdown",
      "source": [
        "### Download the MNIST dataset\r\n",
        "\r\n",
        "Use Azure Open Datasets to get the raw MNIST data files. [Azure Open Datasets](https://docs.microsoft.com/azure/open-datasets/overview-what-are-open-datasets) are curated public datasets that you can use to add scenario-specific features to machine learning solutions for more accurate models. Each dataset has a corrseponding class, `MNIST` in this case, to retrieve the data in different ways.\r\n",
        "\r\n",
        "This code retrieves the data as a `FileDataset` object, which is a subclass of `Dataset`. A `FileDataset` references single or multiple files of any format in your datastores or public urls. The class provides you with the ability to download or mount the files to your compute by creating a reference to the data source location. Additionally, you register the Dataset to your workspace for easy retrieval during training.\r\n",
        "\r\n",
        "Follow the [how-to](https://aka.ms/azureml/howto/createdatasets) to learn more about Datasets and their usage in the SDK."
      ],
      "metadata": {
        "nteract": {
          "transient": {
            "deleting": false
          }
        }
      }
    },
    {
      "cell_type": "code",
      "source": [
        "from azureml.opendatasets import MNIST\r\n",
        "\r\n",
        "data_folder = os.path.join(os.getcwd(), 'data')\r\n",
        "os.makedirs(data_folder, exist_ok=True)\r\n",
        "\r\n",
        "mnist_file_dataset = MNIST.get_file_dataset()\r\n",
        "mnist_file_dataset.download(data_folder, overwrite=True)"
      ],
      "outputs": [
        {
          "output_type": "execute_result",
          "execution_count": 3,
          "data": {
            "text/plain": "['/mnt/batch/tasks/shared/LS_root/mounts/clusters/sharonxu-ci3/code/Users/sharonxu/pycon-demo/data/https%3A/%2Fazureopendatastorage.azurefd.net/mnist/t10k-images-idx3-ubyte.gz',\n '/mnt/batch/tasks/shared/LS_root/mounts/clusters/sharonxu-ci3/code/Users/sharonxu/pycon-demo/data/https%3A/%2Fazureopendatastorage.azurefd.net/mnist/t10k-labels-idx1-ubyte.gz',\n '/mnt/batch/tasks/shared/LS_root/mounts/clusters/sharonxu-ci3/code/Users/sharonxu/pycon-demo/data/https%3A/%2Fazureopendatastorage.azurefd.net/mnist/train-images-idx3-ubyte.gz',\n '/mnt/batch/tasks/shared/LS_root/mounts/clusters/sharonxu-ci3/code/Users/sharonxu/pycon-demo/data/https%3A/%2Fazureopendatastorage.azurefd.net/mnist/train-labels-idx1-ubyte.gz']"
          },
          "metadata": {}
        }
      ],
      "execution_count": 3,
      "metadata": {
        "collapsed": true,
        "jupyter": {
          "source_hidden": false,
          "outputs_hidden": false
        },
        "nteract": {
          "transient": {
            "deleting": false
          }
        },
        "gather": {
          "logged": 1623126410074
        }
      }
    },
    {
      "cell_type": "markdown",
      "source": [
        "### Display some sample images\r\n",
        "\r\n",
        "Load the compressed files into `numpy` arrays. Then use `matplotlib` to plot 30 random images from the dataset with their labels above them. Note this step requires a `load_data` function that's included in an `utils.py` file. This file is included in the sample folder. Please make sure it is placed in the same folder as this notebook. The `load_data` function simply parses the compresse files into numpy arrays."
      ],
      "metadata": {
        "nteract": {
          "transient": {
            "deleting": false
          }
        }
      }
    },
    {
      "cell_type": "code",
      "source": [
        "# make sure utils.py is in the same directory as this code\r\n",
        "# from utils import load_data\r\n",
        "import glob\r\n",
        "\r\n",
        "# note we also shrink the intensity values (X) from 0-255 to 0-1. This helps the model converge faster.\r\n",
        "X_train = load_data(glob.glob(os.path.join(data_folder,\"**/train-images-idx3-ubyte.gz\"), recursive=True)[0], False) / 255.0\r\n",
        "X_test = load_data(glob.glob(os.path.join(data_folder,\"**/t10k-images-idx3-ubyte.gz\"), recursive=True)[0], False) / 255.0\r\n",
        "y_train = load_data(glob.glob(os.path.join(data_folder,\"**/train-labels-idx1-ubyte.gz\"), recursive=True)[0], True).reshape(-1)\r\n",
        "y_test = load_data(glob.glob(os.path.join(data_folder,\"**/t10k-labels-idx1-ubyte.gz\"), recursive=True)[0], True).reshape(-1)"
      ],
      "outputs": [],
      "execution_count": 4,
      "metadata": {
        "collapsed": true,
        "jupyter": {
          "source_hidden": false,
          "outputs_hidden": false
        },
        "nteract": {
          "transient": {
            "deleting": false
          }
        },
        "gather": {
          "logged": 1623126411664
        }
      }
    },
    {
      "cell_type": "code",
      "source": [
        "print(X_train.shape, y_train.shape, X_test.shape, y_test.shape, sep = '\\n')"
      ],
      "outputs": [
        {
          "output_type": "stream",
          "name": "stdout",
          "text": [
            "(60000, 784)\n",
            "(60000,)\n",
            "(10000, 784)\n",
            "(10000,)\n"
          ]
        }
      ],
      "execution_count": 5,
      "metadata": {
        "collapsed": true,
        "jupyter": {
          "source_hidden": false,
          "outputs_hidden": false
        },
        "nteract": {
          "transient": {
            "deleting": false
          }
        },
        "gather": {
          "logged": 1623126412790
        }
      }
    },
    {
      "cell_type": "code",
      "source": [
        "# now let's show some randomly chosen images from the traininng set.\r\n",
        "count = 0\r\n",
        "sample_size = 30\r\n",
        "plt.figure(figsize = (16, 6))\r\n",
        "for i in np.random.permutation(X_train.shape[0])[:sample_size]:\r\n",
        "    count = count + 1\r\n",
        "    plt.subplot(1, sample_size, count)\r\n",
        "    plt.axhline('')\r\n",
        "    plt.axvline('')\r\n",
        "    plt.text(x=10, y=-10, s=y_train[i], fontsize=18)\r\n",
        "    plt.imshow(X_train[i].reshape(28, 28), cmap=plt.cm.Greys)\r\n",
        "plt.show()"
      ],
      "outputs": [
        {
          "output_type": "display_data",
          "data": {
            "text/plain": "<Figure size 1152x432 with 30 Axes>",
            "image/png": "[encoded data removed]"
          },
          "metadata": {
            "needs_background": "light"
          }
        }
      ],
      "execution_count": 6,
      "metadata": {
        "collapsed": true,
        "jupyter": {
          "source_hidden": false,
          "outputs_hidden": false
        },
        "nteract": {
          "transient": {
            "deleting": false
          }
        },
        "gather": {
          "logged": 1623126413971
        }
      }
    },
    {
      "cell_type": "markdown",
      "source": [
        "## Training the Model\r\n"
      ],
      "metadata": {
        "nteract": {
          "transient": {
            "deleting": false
          }
        }
      }
    },
    {
      "cell_type": "markdown",
      "source": [
        "### Train the Decision Tree"
      ],
      "metadata": {
        "nteract": {
          "transient": {
            "deleting": false
          }
        }
      }
    },
    {
      "cell_type": "code",
      "source": [
        "#Train the model\r\n",
        "clf_tree = tree.DecisionTreeClassifier()\r\n",
        "clf_tree = clf_tree.fit(X_train, y_train)"
      ],
      "outputs": [],
      "execution_count": 7,
      "metadata": {
        "collapsed": true,
        "jupyter": {
          "source_hidden": false,
          "outputs_hidden": false
        },
        "nteract": {
          "transient": {
            "deleting": false
          }
        },
        "gather": {
          "logged": 1622754621406
        }
      }
    },
    {
      "cell_type": "code",
      "source": [
        "#predict results\r\n",
        "y_hat_tree = clf_tree.predict(X_test)"
      ],
      "outputs": [],
      "execution_count": null,
      "metadata": {
        "collapsed": true,
        "jupyter": {
          "source_hidden": false,
          "outputs_hidden": false
        },
        "nteract": {
          "transient": {
            "deleting": false
          }
        },
        "gather": {
          "logged": 1622754621651
        }
      }
    },
    {
      "cell_type": "code",
      "source": [
        "#Find accuracy\r\n",
        "acc = np.average(y_hat_tree == y_test)\r\n",
        "print('Accuracy is', acc)"
      ],
      "outputs": [],
      "execution_count": null,
      "metadata": {
        "collapsed": true,
        "jupyter": {
          "source_hidden": false,
          "outputs_hidden": false
        },
        "nteract": {
          "transient": {
            "deleting": false
          }
        },
        "gather": {
          "logged": 1622754621912
        }
      }
    },
    {
      "cell_type": "markdown",
      "source": [
        "### Train Logistic Regression Model"
      ],
      "metadata": {
        "nteract": {
          "transient": {
            "deleting": false
          }
        }
      }
    },
    {
      "cell_type": "code",
      "source": [
        "# set regularization rate\r\n",
        "reg = 0.5\r\n",
        "\r\n",
        "print('Train a logistic regression model with regularization rate of', reg)\r\n",
        "clf = LogisticRegression(C=1.0/reg, solver=\"liblinear\", multi_class=\"auto\", random_state=42)\r\n",
        "clf.fit(X_train, y_train)\r\n"
      ],
      "outputs": [],
      "execution_count": null,
      "metadata": {
        "collapsed": true,
        "jupyter": {
          "source_hidden": false,
          "outputs_hidden": false
        },
        "nteract": {
          "transient": {
            "deleting": false
          }
        },
        "gather": {
          "logged": 1622759576765
        }
      }
    },
    {
      "cell_type": "code",
      "source": [
        "# predict the test set\r\n",
        "y_hat = clf.predict(X_test)"
      ],
      "outputs": [],
      "execution_count": null,
      "metadata": {
        "collapsed": true,
        "jupyter": {
          "source_hidden": false,
          "outputs_hidden": false
        },
        "nteract": {
          "transient": {
            "deleting": false
          }
        },
        "gather": {
          "logged": 1622754735618
        }
      }
    },
    {
      "cell_type": "code",
      "source": [
        "# calculate accuracy on the prediction\r\n",
        "acc = np.average(y_hat == y_test)\r\n",
        "print('Accuracy is', acc)"
      ],
      "outputs": [],
      "execution_count": null,
      "metadata": {
        "collapsed": true,
        "jupyter": {
          "source_hidden": false,
          "outputs_hidden": false
        },
        "nteract": {
          "transient": {
            "deleting": false
          }
        },
        "gather": {
          "logged": 1622754735836
        }
      }
    },
    {
      "cell_type": "markdown",
      "source": [
        "## Output the Model"
      ],
      "metadata": {
        "nteract": {
          "transient": {
            "deleting": false
          }
        }
      }
    },
    {
      "cell_type": "code",
      "source": [
        "# get hold of the current run\r\n",
        "run = Run.get_context()\r\n",
        "\r\n",
        "run.log('regularization rate', np.float(reg))\r\n",
        "run.log('accuracy', np.float(acc))"
      ],
      "outputs": [],
      "execution_count": null,
      "metadata": {
        "collapsed": true,
        "jupyter": {
          "source_hidden": false,
          "outputs_hidden": false
        },
        "nteract": {
          "transient": {
            "deleting": false
          }
        },
        "gather": {
          "logged": 1622754736050
        }
      }
    },
    {
      "cell_type": "code",
      "source": [
        "os.makedirs('outputs', exist_ok=True)\r\n",
        "\r\n",
        "# note file saved in the outputs folder is automatically uploaded into experiment record\r\n",
        "joblib.dump(value=clf, filename='outputs/sklearn_mnist_model.pkl')"
      ],
      "outputs": [],
      "execution_count": null,
      "metadata": {
        "collapsed": true,
        "jupyter": {
          "source_hidden": false,
          "outputs_hidden": false
        },
        "nteract": {
          "transient": {
            "deleting": false
          }
        },
        "gather": {
          "logged": 1622754736339
        }
      }
    }
  ],
  "metadata": {
    "kernelspec": {
      "name": "python3-azureml",
      "language": "python",
      "display_name": "Python 3.6 - AzureML"
    },
    "language_info": {
      "name": "python",
      "version": "3.6.9",
      "mimetype": "text/x-python",
      "codemirror_mode": {
        "name": "ipython",
        "version": 3
      },
      "pygments_lexer": "ipython3",
      "nbconvert_exporter": "python",
      "file_extension": ".py"
    },
    "kernel_info": {
      "name": "python3-azureml"
    },
    "microsoft": {
      "host": {
        "AzureML": {
          "notebookHasBeenCompleted": true
        }
      }
    },
    "nteract": {
      "version": "nteract-front-end@1.0.0"
    }
  },
  "nbformat": 4,
  "nbformat_minor": 2
}